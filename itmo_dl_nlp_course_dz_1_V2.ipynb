{
  "nbformat": 4,
  "nbformat_minor": 0,
  "metadata": {
    "colab": {
      "provenance": [],
      "authorship_tag": "ABX9TyNc7n/KksDZezNePqS5e/UN",
      "include_colab_link": true
    },
    "kernelspec": {
      "name": "python3",
      "display_name": "Python 3"
    },
    "language_info": {
      "name": "python"
    }
  },
  "cells": [
    {
      "cell_type": "markdown",
      "metadata": {
        "id": "view-in-github",
        "colab_type": "text"
      },
      "source": [
        "<a href=\"https://colab.research.google.com/github/Sergey-Kit/AI-Super-Resolution-Task/blob/main/itmo_dl_nlp_course_dz_1_V2.ipynb\" target=\"_parent\"><img src=\"https://colab.research.google.com/assets/colab-badge.svg\" alt=\"Open In Colab\"/></a>"
      ]
    },
    {
      "cell_type": "markdown",
      "source": [
        "## Подготовка текста под задачу классификации текста"
      ],
      "metadata": {
        "id": "hpr6mqcoNpq1"
      }
    },
    {
      "cell_type": "markdown",
      "source": [
        "### 1. Установка зависимостей"
      ],
      "metadata": {
        "id": "Xa8Hlje24Lcj"
      }
    },
    {
      "cell_type": "code",
      "source": [
        "#!rm -r hw_1\n",
        "# Clone GitHub Project\n",
        "!git clone https://github.com/Sergey-Kit/itmo_dl_nlp_course/tree/b83a1b87feb2430ae6717c37b766ccac8aaefdd0/hw_1\n",
        "#%cd hw_1\n",
        "!pip install -r requirements.txt\n",
        "!pip install corus\n",
        "!pip install pyspellchecker\n",
        "!pip install clean-text"
      ],
      "metadata": {
        "id": "dIbPi5lu0xXz"
      },
      "execution_count": null,
      "outputs": []
    },
    {
      "cell_type": "code",
      "source": [
        "from corus import load_buriy_webhose\n",
        "from bs4 import BeautifulSoup\n",
        "#from spellchecker import SpellChecker\n",
        "import re\n",
        "from cleantext import clean\n",
        "\n",
        "#random_state = 42"
      ],
      "metadata": {
        "id": "7r4nj57aERN2"
      },
      "execution_count": 2,
      "outputs": []
    },
    {
      "cell_type": "markdown",
      "source": [
        "### 2. Получение датасета"
      ],
      "metadata": {
        "id": "2JgMX_qJ4SWB"
      }
    },
    {
      "cell_type": "code",
      "source": [
        "!wget -P /content/data https://github.com/buriy/russian-nlp-datasets/releases/download/r4/webhose-2016.tar.bz2\n",
        "\n",
        "path = 'data/webhose-2016.tar.bz2'\n",
        "records = load_buriy_webhose(path)\n",
        "next(records)"
      ],
      "metadata": {
        "id": "DkDRUMDC_Nfd"
      },
      "execution_count": null,
      "outputs": []
    },
    {
      "cell_type": "markdown",
      "source": [
        "### 3. Предобработка датасета"
      ],
      "metadata": {
        "id": "BEpoPQ8-Fa3q"
      }
    },
    {
      "cell_type": "markdown",
      "source": [
        "#### Нормализация"
      ],
      "metadata": {
        "id": "184a2kES9kqs"
      }
    },
    {
      "cell_type": "code",
      "source": [
        "dataset = [next(records).text for i in records]\n",
        "dataset[0]"
      ],
      "metadata": {
        "colab": {
          "base_uri": "https://localhost:8080/",
          "height": 90
        },
        "id": "9tiZsswbEZbA",
        "outputId": "ca7387ae-16dd-40d2-9b55-9377b1519dd1"
      },
      "execution_count": 4,
      "outputs": [
        {
          "output_type": "execute_result",
          "data": {
            "text/plain": [
              "'Revision as of 00:47, 3 October 2016 Other languages: العربية • \\u200e català • \\u200e Deutsch • \\u200e English • \\u200e español • \\u200e eesti • \\u200e فارسی • \\u200e français • \\u200e Bahasa Indonesia • \\u200e italiano • \\u200e Nederlands • \\u200e português do Brasil • \\u200e русский • \\u200e українська • \\u200e 中文 \\nЭта страница является порталом списка уроков, нацеленных на начинающих пользователей [системы] Joomla. Обратите, пожалуйста, внимание на выше расположенное примечание относительно даты. \\nЕсли у Вас есть какие-либо идеи [относительно желаемых уроков], то создайте, пожалуйста, красную ссылку ниже в разделе Желаемые темы . Contents'"
            ],
            "application/vnd.google.colaboratory.intrinsic+json": {
              "type": "string"
            }
          },
          "metadata": {},
          "execution_count": 4
        }
      ]
    },
    {
      "cell_type": "code",
      "source": [
        "len(dataset)"
      ],
      "metadata": {
        "colab": {
          "base_uri": "https://localhost:8080/"
        },
        "id": "UYfJM2ZdEZ-e",
        "outputId": "055bf942-cead-484c-a10a-d4619a7ba3e8"
      },
      "execution_count": 5,
      "outputs": [
        {
          "output_type": "execute_result",
          "data": {
            "text/plain": [
              "142982"
            ]
          },
          "metadata": {},
          "execution_count": 5
        }
      ]
    },
    {
      "cell_type": "code",
      "source": [
        "test = dataset[:10].copy()"
      ],
      "metadata": {
        "id": "-TVhjIl0Kozu"
      },
      "execution_count": 76,
      "outputs": []
    },
    {
      "cell_type": "code",
      "source": [
        "exmpl = test[6]"
      ],
      "metadata": {
        "id": "yFLZxJ1nrfap"
      },
      "execution_count": 167,
      "outputs": []
    },
    {
      "cell_type": "code",
      "source": [
        "exmpl"
      ],
      "metadata": {
        "colab": {
          "base_uri": "https://localhost:8080/",
          "height": 54
        },
        "id": "r4jfJmKdsTkl",
        "outputId": "8dd7432e-cdc1-47e0-aeea-c13f4e303ad3"
      },
      "execution_count": 168,
      "outputs": [
        {
          "output_type": "execute_result",
          "data": {
            "text/plain": [
              "'Фото: Архив пресс-службы Стивен Вебстер посвятил коллекцию гаданию на цветке В коллекцию Stephen Webster «Love Me, Love Me Not» вошли украшения из розового и белого золота, инкрустированные зеленым агатом в окружении черных бриллиантов и розовым опалом или гематитом с белыми бриллиантами. Опытным путем редакция выяснила, что гадание на кольце, серьгах, колье или браслете приводит только к положительному ответу. '"
            ],
            "application/vnd.google.colaboratory.intrinsic+json": {
              "type": "string"
            }
          },
          "metadata": {},
          "execution_count": 168
        }
      ]
    },
    {
      "cell_type": "code",
      "source": [
        "# Переводим символы в нижний регистр\n",
        "exmpl = exmpl.lower()\n",
        "exmpl"
      ],
      "metadata": {
        "colab": {
          "base_uri": "https://localhost:8080/",
          "height": 54
        },
        "id": "zmWhHhe72GP_",
        "outputId": "d71fc141-c778-46ee-e4f8-9acaeca8eab9"
      },
      "execution_count": 169,
      "outputs": [
        {
          "output_type": "execute_result",
          "data": {
            "text/plain": [
              "'фото: архив пресс-службы стивен вебстер посвятил коллекцию гаданию на цветке в коллекцию stephen webster «love me, love me not» вошли украшения из розового и белого золота, инкрустированные зеленым агатом в окружении черных бриллиантов и розовым опалом или гематитом с белыми бриллиантами. опытным путем редакция выяснила, что гадание на кольце, серьгах, колье или браслете приводит только к положительному ответу. '"
            ],
            "application/vnd.google.colaboratory.intrinsic+json": {
              "type": "string"
            }
          },
          "metadata": {},
          "execution_count": 169
        }
      ]
    },
    {
      "cell_type": "code",
      "source": [
        "# Чистим от HTML-разметки\n",
        "soup = BeautifulSoup(exmpl, 'html.parser')\n",
        "exmpl = soup.get_text()\n",
        "exmpl"
      ],
      "metadata": {
        "colab": {
          "base_uri": "https://localhost:8080/",
          "height": 54
        },
        "id": "YawvJ_GQrJIp",
        "outputId": "c7501b53-0b9b-4c41-c2f7-8f64d396d25c"
      },
      "execution_count": 170,
      "outputs": [
        {
          "output_type": "execute_result",
          "data": {
            "text/plain": [
              "'фото: архив пресс-службы стивен вебстер посвятил коллекцию гаданию на цветке в коллекцию stephen webster «love me, love me not» вошли украшения из розового и белого золота, инкрустированные зеленым агатом в окружении черных бриллиантов и розовым опалом или гематитом с белыми бриллиантами. опытным путем редакция выяснила, что гадание на кольце, серьгах, колье или браслете приводит только к положительному ответу. '"
            ],
            "application/vnd.google.colaboratory.intrinsic+json": {
              "type": "string"
            }
          },
          "metadata": {},
          "execution_count": 170
        }
      ]
    },
    {
      "cell_type": "code",
      "source": [
        "\n",
        "#Удаляем LEFT-TO-RIGHT MARK\n",
        "exmpl = re.sub('•\\s*\\u200e\\s\\w+.*\\n', '', exmpl)\n",
        "print('\\n')\n",
        "\n",
        "# Удаляем пунктуацию\n",
        "exmpl = re.sub(r'\\d+|[^\\w\\s]', '', exmpl)\n",
        "print(exmpl)\n",
        "print('\\n')\n",
        "\n",
        "# Удаляем числа и не русские буквы\n",
        "exmpl = re.sub(r'\\b\\d+\\b|\\b(?![А-Яа-я]+\\b)[^\\W\\d_]+\\b', '', exmpl)\n",
        "print(exmpl)\n"
      ],
      "metadata": {
        "colab": {
          "base_uri": "https://localhost:8080/"
        },
        "id": "BmQsWsyqpTwE",
        "outputId": "8428acde-d212-4559-ffa7-b0d2bdf0aad0"
      },
      "execution_count": 171,
      "outputs": [
        {
          "output_type": "stream",
          "name": "stdout",
          "text": [
            "\n",
            "\n",
            "фото архив прессслужбы стивен вебстер посвятил коллекцию гаданию на цветке в коллекцию stephen webster love me love me not вошли украшения из розового и белого золота инкрустированные зеленым агатом в окружении черных бриллиантов и розовым опалом или гематитом с белыми бриллиантами опытным путем редакция выяснила что гадание на кольце серьгах колье или браслете приводит только к положительному ответу \n",
            "\n",
            "\n",
            "фото архив прессслужбы стивен вебстер посвятил коллекцию гаданию на цветке в коллекцию        вошли украшения из розового и белого золота инкрустированные зеленым агатом в окружении черных бриллиантов и розовым опалом или гематитом с белыми бриллиантами опытным путем редакция выяснила что гадание на кольце серьгах колье или браслете приводит только к положительному ответу \n"
          ]
        }
      ]
    },
    {
      "cell_type": "markdown",
      "source": [
        "#### Токенизация"
      ],
      "metadata": {
        "id": "yrLFdagk3Y0a"
      }
    },
    {
      "cell_type": "code",
      "source": [
        "# Простая токенизация\n",
        "tokens = re.findall(r'\\w+', exmpl)\n",
        "tokens"
      ],
      "metadata": {
        "id": "LznjzG5a7sO8"
      },
      "execution_count": null,
      "outputs": []
    },
    {
      "cell_type": "markdown",
      "source": [
        "#### Удаление стоп-слов"
      ],
      "metadata": {
        "id": "asHNqFL58JaY"
      }
    },
    {
      "cell_type": "code",
      "source": [
        "stop_words = set(stopwords.words('russian'))\n",
        "\n",
        "filtered_tokens = []\n",
        "\n",
        "for token in tokens:\n",
        "    if token not in stop_words:\n",
        "        filtered_tokens.append(token)\n",
        "\n",
        "print(filtered_tokens)"
      ],
      "metadata": {
        "colab": {
          "base_uri": "https://localhost:8080/"
        },
        "id": "RwoV0DBT76gJ",
        "outputId": "8ea654af-d645-46a1-abf6-e717cfb4b274"
      },
      "execution_count": 183,
      "outputs": [
        {
          "output_type": "stream",
          "name": "stdout",
          "text": [
            "['фото', 'архив', 'прессслужбы', 'стивен', 'вебстер', 'посвятил', 'коллекцию', 'гаданию', 'цветке', 'коллекцию', 'вошли', 'украшения', 'розового', 'белого', 'золота', 'инкрустированные', 'зеленым', 'агатом', 'окружении', 'черных', 'бриллиантов', 'розовым', 'опалом', 'гематитом', 'белыми', 'бриллиантами', 'опытным', 'путем', 'редакция', 'выяснила', 'гадание', 'кольце', 'серьгах', 'колье', 'браслете', 'приводит', 'положительному', 'ответу', 'фото', 'архив', 'прессслужбы', 'стивен', 'вебстер', 'посвятил', 'коллекцию', 'гаданию', 'цветке', 'коллекцию', 'вошли', 'украшения', 'розового', 'белого', 'золота', 'инкрустированные', 'зеленым', 'агатом', 'окружении', 'черных', 'бриллиантов', 'розовым', 'опалом', 'гематитом', 'белыми', 'бриллиантами', 'опытным', 'путем', 'редакция', 'выяснила', 'гадание', 'кольце', 'серьгах', 'колье', 'браслете', 'приводит', 'положительному', 'ответу', 'фото', 'архив', 'прессслужбы', 'стивен', 'вебстер', 'посвятил', 'коллекцию', 'гаданию', 'цветке', 'коллекцию', 'вошли', 'украшения', 'розового', 'белого', 'золота', 'инкрустированные', 'зеленым', 'агатом', 'окружении', 'черных', 'бриллиантов', 'розовым', 'опалом', 'гематитом', 'белыми', 'бриллиантами', 'опытным', 'путем', 'редакция', 'выяснила', 'гадание', 'кольце', 'серьгах', 'колье', 'браслете', 'приводит', 'положительному', 'ответу']\n"
          ]
        }
      ]
    },
    {
      "cell_type": "markdown",
      "source": [
        "#### Лемматизация"
      ],
      "metadata": {
        "id": "OCs-jS1P934Q"
      }
    },
    {
      "cell_type": "code",
      "source": [
        "import pymorphy2\n",
        "morph = pymorphy2.MorphAnalyzer()\n",
        "\n",
        "lemmas = []\n",
        "\n",
        "for token in filtered_tokens:\n",
        "    lemma = morph.parse(token)[0].normal_form\n",
        "    lemmas.append(lemma)\n",
        "\n",
        "print(lemmas)"
      ],
      "metadata": {
        "colab": {
          "base_uri": "https://localhost:8080/"
        },
        "id": "4888-3z7Z0nK",
        "outputId": "346a1a57-31b5-4a5d-d4b6-c30aa6ad3a46"
      },
      "execution_count": 185,
      "outputs": [
        {
          "output_type": "stream",
          "name": "stdout",
          "text": [
            "['фото', 'архив', 'прессслужба', 'стивен', 'вебстер', 'посвятить', 'коллекция', 'гадание', 'цветок', 'коллекция', 'войти', 'украшение', 'розовый', 'белый', 'золото', 'инкрустировать', 'зелёный', 'агат', 'окружение', 'чёрный', 'бриллиант', 'розовый', 'опал', 'гематит', 'белый', 'бриллиант', 'опытный', 'путём', 'редакция', 'выяснить', 'гадание', 'кольцо', 'серьга', 'колье', 'браслет', 'приводить', 'положительный', 'ответ', 'фото', 'архив', 'прессслужба', 'стивен', 'вебстер', 'посвятить', 'коллекция', 'гадание', 'цветок', 'коллекция', 'войти', 'украшение', 'розовый', 'белый', 'золото', 'инкрустировать', 'зелёный', 'агат', 'окружение', 'чёрный', 'бриллиант', 'розовый', 'опал', 'гематит', 'белый', 'бриллиант', 'опытный', 'путём', 'редакция', 'выяснить', 'гадание', 'кольцо', 'серьга', 'колье', 'браслет', 'приводить', 'положительный', 'ответ', 'фото', 'архив', 'прессслужба', 'стивен', 'вебстер', 'посвятить', 'коллекция', 'гадание', 'цветок', 'коллекция', 'войти', 'украшение', 'розовый', 'белый', 'золото', 'инкрустировать', 'зелёный', 'агат', 'окружение', 'чёрный', 'бриллиант', 'розовый', 'опал', 'гематит', 'белый', 'бриллиант', 'опытный', 'путём', 'редакция', 'выяснить', 'гадание', 'кольцо', 'серьга', 'колье', 'браслет', 'приводить', 'положительный', 'ответ']\n"
          ]
        }
      ]
    },
    {
      "cell_type": "code",
      "source": [],
      "metadata": {
        "id": "Dawlxv2xny_2"
      },
      "execution_count": 158,
      "outputs": []
    },
    {
      "cell_type": "code",
      "source": [
        "'''!pip install natasha\n",
        "\n",
        "from natasha import MorphVocab, NewsEmbedding, NewsMorphTagger, Doc, Segmenter, MorphVocab\n",
        "\n",
        "segmenter = Segmenter()\n",
        "emb = NewsEmbedding()\n",
        "morph_tagger = NewsMorphTagger(emb)\n",
        "morph_vocab = MorphVocab()\n",
        "\n",
        "doc = Doc(exmpl)\n",
        "doc.segment(segmenter) # Uses Razdel internally.\n",
        "doc.tag_morph(morph_tagger)\n",
        "stop_words = set(stopwords.words('russian'))\n",
        "\n",
        "tokens = []\n",
        "\n",
        "for token in doc.tokens:\n",
        "  if token.text.lower() not in stop_words:\n",
        "        tokens.append(token.text)\n",
        "\n",
        "print(tokens)'''"
      ],
      "metadata": {
        "id": "8KE5YGgC3pcq"
      },
      "execution_count": 160,
      "outputs": []
    },
    {
      "cell_type": "code",
      "source": [],
      "metadata": {
        "id": "hpbAy8XxnsA2"
      },
      "execution_count": 174,
      "outputs": []
    },
    {
      "cell_type": "code",
      "source": [],
      "metadata": {
        "id": "XdgagTEw5LbW"
      },
      "execution_count": null,
      "outputs": []
    },
    {
      "cell_type": "code",
      "source": [],
      "metadata": {
        "id": "wDvOrAf_5LWO"
      },
      "execution_count": null,
      "outputs": []
    },
    {
      "cell_type": "code",
      "source": [],
      "metadata": {
        "id": "oG8tSRy_5LP_"
      },
      "execution_count": null,
      "outputs": []
    },
    {
      "cell_type": "code",
      "source": [],
      "metadata": {
        "id": "qEJ0vnCr5Kuf"
      },
      "execution_count": null,
      "outputs": []
    },
    {
      "cell_type": "code",
      "source": [
        "# Удаляем ссылки на wiki\n",
        "text = re.sub(r'\\[\\[S:MyLanguage/.*?\\]\\]', '', text)\n",
        "for text in dataset:\n",
        "  # Удаляем символы форматирования\n",
        "  text = re.sub(r'\\'{3}|\\'{2}|\\+|\\[|\\]|\\(|\\)|\\-', '', text)\n",
        "for text in dataset:\n",
        "  # Удаляем числа и пунктуацию\n",
        "  text = re.sub(r'\\d+|[^\\w\\s]', '', text)\n",
        "exmpl = re.sub(r'\\'{3}|\\'{2}|\\+|\\[|\\]|\\(|\\)|\\-', '', exmpl)\n",
        "# Удаляем ссылки на wiki\n",
        "exmpl = re.sub(r'\\[\\[S:MyLanguage/.*?\\]\\]', '', exmpl)\n",
        "\n",
        "# Удаляем все слова, которых нет в русском или английском языках\n",
        "test[0] = re.sub(r'\\b(?![A-Za-zА-Яа-я]+\\b)[^\\W\\d_]+\\b', '', test[0])\n",
        "test[0] = re.sub(r'\\b\\d{1,2}\\s+(?:января|февраля|марта|апреля|мая|июня|июля|августа|сентября|октября|ноября|декабря)\\s+\\d{4}\\b|\\b\\d{1,2}:\\d{2}\\b', '', test[0])\n",
        "test[0] = re.sub(r'\\b\\d{1,2}\\s+(?:январ[яь]|феврал[ья]|март[а]|апрел[ья]|ма[йя]|июн[ья]|июл[ья]|август[а]|сентябр[ья]|октябр[ья]|ноябр[ья]|декабр[ья])\\s+\\d{4}\\b|\\b\\d{1,2}:\\d{2}\\b|\\b(?:Jan|Feb|Mar|Apr|May|Jun|Jul|Aug|Sep|Oct|Nov|Dec)[a-z]*\\s+\\d{1,2}[a-z]{0,2},\\s+\\d{4}\\b', '', test[0])\n",
        "for text in dataset:\n",
        "  # Удаление источника\n",
        "  pattern = r\"Facebook Комментировать \\d Фото: (m24\\.ru\\/\\S+|facebook\\.com\\/\\S+)\\n?\"\n",
        "  result = re.sub(pattern, \"\", text)\n",
        "\n",
        "  import nltk\n",
        "from nltk.corpus import stopwords\n",
        "\n",
        "nltk.download('stopwords')\n",
        "print(stopwords.words('russian'))\n",
        "clean(test[0], no_emails=True, replace_with_email=\"<no emails!!!>\")\n",
        "for data in soup(['style', 'script']):\n",
        "  data.decompose()\n",
        "' '.join(soup.stripped_strings)for text in dataset:\n",
        "  text = re.sub(r'\\n.*', \"\", text)\n",
        ""
      ],
      "metadata": {
        "id": "wzuQ0PCWoBNY"
      },
      "execution_count": null,
      "outputs": []
    },
    {
      "cell_type": "code",
      "source": [],
      "metadata": {
        "id": "LvDMKMv6dcG1"
      },
      "execution_count": 80,
      "outputs": []
    },
    {
      "cell_type": "code",
      "source": [],
      "metadata": {
        "id": "cuq_yqIVdbn1"
      },
      "execution_count": 80,
      "outputs": []
    },
    {
      "cell_type": "code",
      "source": [],
      "metadata": {
        "id": "O3g82GGAYCJ_"
      },
      "execution_count": null,
      "outputs": []
    },
    {
      "cell_type": "code",
      "source": [
        "spell = SpellChecker(language='ru')\n",
        "\n",
        "# Поиск неверных слов\n",
        "misspelled = spell.unknown(text.split())\n",
        "\n",
        "for word in misspelled:\n",
        "    correction = spell.correction(word)\n",
        "    if correction:\n",
        "      print(word)\n",
        "      print(correction)\n",
        "      print(spell.candidates(word))\n",
        "      print('-'*20)"
      ],
      "metadata": {
        "id": "2KjQzUzRM8VV"
      },
      "execution_count": null,
      "outputs": []
    },
    {
      "cell_type": "code",
      "source": [
        "def text_prepare(text, language='russian', delete_stop_words=False):\n",
        "    \"\"\"\n",
        "        text: a string\n",
        "\n",
        "        return: modified string\n",
        "    \"\"\"\n",
        "    lemmatizer = WordNetLemmatizer()\n",
        "\n",
        "    # 1. Перевести символы в нижний регистр\n",
        "    text = text.lower()\n",
        "\n",
        "\n",
        "\n",
        "    # 2.2 Удалить \"плохие\" символы\n",
        "    text = re.sub('[^A-Za-z0-9]' if language == 'english' else '[^А-яа-я]', ' ', text)\n",
        "\n",
        "\n",
        "    # 3. Применить WordNetLemmatizer\n",
        "    word_list = nltk.word_tokenize(text)\n",
        "    text = ' '.join([lemmatizer.lemmatize(w) for w in word_list])\n",
        "\n",
        "    # 4. Удалить стопслова.\n",
        "    if delete_stop_words:\n",
        "        stopWords = set(stopwords.words(language))\n",
        "        for stopWord in stopWords:\n",
        "            text = re.sub(r'\\b{}\\b'.format(stopWord), '', text)\n",
        "\n",
        "    # 5. Удаляю пробелы у получая просто строку слов через пробел\n",
        "    text = ' '.join(text.split())\n",
        "\n",
        "    return text"
      ],
      "metadata": {
        "id": "ftEGZnrvEaDO"
      },
      "execution_count": null,
      "outputs": []
    },
    {
      "cell_type": "code",
      "source": [],
      "metadata": {
        "id": "1qgjcWymEaHm"
      },
      "execution_count": null,
      "outputs": []
    },
    {
      "cell_type": "code",
      "source": [],
      "metadata": {
        "id": "XWd0M9taEaMJ"
      },
      "execution_count": null,
      "outputs": []
    }
  ]
}